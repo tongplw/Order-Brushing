{
 "cells": [
  {
   "cell_type": "code",
   "execution_count": 1,
   "metadata": {},
   "outputs": [],
   "source": [
    "import pandas as pd\n",
    "from tqdm.auto import tqdm"
   ]
  },
  {
   "cell_type": "code",
   "execution_count": 2,
   "metadata": {},
   "outputs": [
    {
     "data": {
      "text/html": [
       "<div>\n",
       "<style scoped>\n",
       "    .dataframe tbody tr th:only-of-type {\n",
       "        vertical-align: middle;\n",
       "    }\n",
       "\n",
       "    .dataframe tbody tr th {\n",
       "        vertical-align: top;\n",
       "    }\n",
       "\n",
       "    .dataframe thead th {\n",
       "        text-align: right;\n",
       "    }\n",
       "</style>\n",
       "<table border=\"1\" class=\"dataframe\">\n",
       "  <thead>\n",
       "    <tr style=\"text-align: right;\">\n",
       "      <th></th>\n",
       "      <th>shopid</th>\n",
       "      <th>userid</th>\n",
       "    </tr>\n",
       "    <tr>\n",
       "      <th>event_time</th>\n",
       "      <th></th>\n",
       "      <th></th>\n",
       "    </tr>\n",
       "  </thead>\n",
       "  <tbody>\n",
       "    <tr>\n",
       "      <th>2019-12-27 00:00:00</th>\n",
       "      <td>6042309</td>\n",
       "      <td>97707522</td>\n",
       "    </tr>\n",
       "    <tr>\n",
       "      <th>2019-12-27 00:00:00</th>\n",
       "      <td>104804492</td>\n",
       "      <td>97707522</td>\n",
       "    </tr>\n",
       "    <tr>\n",
       "      <th>2019-12-27 00:00:00</th>\n",
       "      <td>8715449</td>\n",
       "      <td>97707522</td>\n",
       "    </tr>\n",
       "    <tr>\n",
       "      <th>2019-12-27 00:00:02</th>\n",
       "      <td>190969466</td>\n",
       "      <td>170182475</td>\n",
       "    </tr>\n",
       "    <tr>\n",
       "      <th>2019-12-27 00:00:05</th>\n",
       "      <td>2859407</td>\n",
       "      <td>12532131</td>\n",
       "    </tr>\n",
       "    <tr>\n",
       "      <th>...</th>\n",
       "      <td>...</td>\n",
       "      <td>...</td>\n",
       "    </tr>\n",
       "    <tr>\n",
       "      <th>2019-12-31 23:59:43</th>\n",
       "      <td>149254894</td>\n",
       "      <td>193333760</td>\n",
       "    </tr>\n",
       "    <tr>\n",
       "      <th>2019-12-31 23:59:47</th>\n",
       "      <td>147941492</td>\n",
       "      <td>40258063</td>\n",
       "    </tr>\n",
       "    <tr>\n",
       "      <th>2019-12-31 23:59:51</th>\n",
       "      <td>187123853</td>\n",
       "      <td>2338306</td>\n",
       "    </tr>\n",
       "    <tr>\n",
       "      <th>2019-12-31 23:59:51</th>\n",
       "      <td>154074176</td>\n",
       "      <td>2338306</td>\n",
       "    </tr>\n",
       "    <tr>\n",
       "      <th>2019-12-31 23:59:56</th>\n",
       "      <td>31844790</td>\n",
       "      <td>95161930</td>\n",
       "    </tr>\n",
       "  </tbody>\n",
       "</table>\n",
       "<p>222750 rows × 2 columns</p>\n",
       "</div>"
      ],
      "text/plain": [
       "                        shopid     userid\n",
       "event_time                               \n",
       "2019-12-27 00:00:00    6042309   97707522\n",
       "2019-12-27 00:00:00  104804492   97707522\n",
       "2019-12-27 00:00:00    8715449   97707522\n",
       "2019-12-27 00:00:02  190969466  170182475\n",
       "2019-12-27 00:00:05    2859407   12532131\n",
       "...                        ...        ...\n",
       "2019-12-31 23:59:43  149254894  193333760\n",
       "2019-12-31 23:59:47  147941492   40258063\n",
       "2019-12-31 23:59:51  187123853    2338306\n",
       "2019-12-31 23:59:51  154074176    2338306\n",
       "2019-12-31 23:59:56   31844790   95161930\n",
       "\n",
       "[222750 rows x 2 columns]"
      ]
     },
     "execution_count": 2,
     "metadata": {},
     "output_type": "execute_result"
    }
   ],
   "source": [
    "df = pd.read_csv('order_brush_order.csv').drop(columns='orderid').sort_values('event_time').set_index('event_time')\n",
    "df.index = pd.to_datetime(df.index)\n",
    "\n",
    "df"
   ]
  },
  {
   "cell_type": "code",
   "execution_count": 3,
   "metadata": {},
   "outputs": [],
   "source": [
    "d = {}\n",
    "for shopid in df.shopid.unique():\n",
    "    d[shopid] = set()"
   ]
  },
  {
   "cell_type": "code",
   "execution_count": 4,
   "metadata": {},
   "outputs": [
    {
     "data": {
      "application/vnd.jupyter.widget-view+json": {
       "model_id": "6c0063800f54425f94f89803ef443eb9",
       "version_major": 2,
       "version_minor": 0
      },
      "text/plain": [
       "HBox(children=(FloatProgress(value=0.0, max=18770.0), HTML(value='')))"
      ]
     },
     "metadata": {},
     "output_type": "display_data"
    },
    {
     "name": "stdout",
     "output_type": "stream",
     "text": [
      "\n"
     ]
    }
   ],
   "source": [
    "for shopid in tqdm(df.shopid.unique()):\n",
    "    shop_df = df[df.shopid == shopid]\n",
    "    ex = None\n",
    "    for i, row in shop_df.iterrows():\n",
    "        start = i\n",
    "        if start == ex:\n",
    "            continue\n",
    "            \n",
    "        if ex != None:\n",
    "            gap = start - ex\n",
    "        \n",
    "        ex = start\n",
    "        end = start + pd.DateOffset(hours=1)\n",
    "        tmp_df = shop_df[(shop_df.index >= start) & (shop_df.index <= end)]\n",
    "        \n",
    "        while len(tmp_df) >= 3:\n",
    "            con = len(tmp_df) / tmp_df['userid'].nunique()\n",
    "            if con >= 3:\n",
    "                users = tmp_df.userid.value_counts()\n",
    "                d[shopid].update(list(users[users == users.max()].index))\n",
    "            if end - tmp_df.index.max() < gap:\n",
    "                tmp_df = tmp_df.iloc[:-1]\n",
    "            else:\n",
    "                break"
   ]
  },
  {
   "cell_type": "code",
   "execution_count": 5,
   "metadata": {},
   "outputs": [],
   "source": [
    "out = {'shopid': [], 'userid': []}\n",
    "for shopid in d:\n",
    "    out['shopid'] += [shopid]\n",
    "    if d[shopid] == set():\n",
    "        out['userid'] += ['0']\n",
    "    else:\n",
    "        out['userid'] += ['&'.join(map(str, sorted(list(d[shopid]))))]"
   ]
  },
  {
   "cell_type": "code",
   "execution_count": 6,
   "metadata": {},
   "outputs": [],
   "source": [
    "xx = pd.DataFrame(out)\n",
    "xx.to_csv('out.csv', index=False)"
   ]
  }
 ],
 "metadata": {
  "kernelspec": {
   "display_name": "Python 3",
   "language": "python",
   "name": "python3"
  },
  "language_info": {
   "codemirror_mode": {
    "name": "ipython",
    "version": 3
   },
   "file_extension": ".py",
   "mimetype": "text/x-python",
   "name": "python",
   "nbconvert_exporter": "python",
   "pygments_lexer": "ipython3",
   "version": "3.5.3"
  }
 },
 "nbformat": 4,
 "nbformat_minor": 4
}
